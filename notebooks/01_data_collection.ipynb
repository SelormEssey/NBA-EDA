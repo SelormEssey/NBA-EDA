{
 "cells": [
  {
   "cell_type": "markdown",
   "metadata": {},
   "source": [
    "# Data Collection\n",
    "\n",
    "This notebook covers the collection of data for Jared McCain's and the Philadelphia 76ers' three-point shooting statistics.\n",
    "\n",
    "## Jared McCain's Data\n",
    "\n",
    "We gathered three-point shooting data for Jared McCain from the latest season. The data includes:\n",
    "- Season: Year of the season.\n",
    "- Games played: Number of games played.\n",
    "- 3P Attempts: Total three-point attempts.\n",
    "- 3P Makes: Total three-point makes.\n",
    "- 3P Percentage: Shooting percentage.\n",
    "\n",
    "## 76ers' Data\n",
    "\n",
    "We collected the Philadelphia 76ers' three-point shooting statistics for the latest season.\n"
   ]
  },
  {
   "cell_type": "code",
   "execution_count": 31,
   "metadata": {},
   "outputs": [
    {
     "ename": "ModuleNotFoundError",
     "evalue": "No module named 'pandas'",
     "output_type": "error",
     "traceback": [
      "\u001b[0;31m---------------------------------------------------------------------------\u001b[0m",
      "\u001b[0;31mModuleNotFoundError\u001b[0m                       Traceback (most recent call last)",
      "Cell \u001b[0;32mIn[31], line 1\u001b[0m\n\u001b[0;32m----> 1\u001b[0m \u001b[38;5;28;01mimport\u001b[39;00m \u001b[38;5;21;01mpandas\u001b[39;00m \u001b[38;5;28;01mas\u001b[39;00m \u001b[38;5;21;01mpd\u001b[39;00m\n\u001b[1;32m      3\u001b[0m \u001b[38;5;66;03m# Test if pandas is working\u001b[39;00m\n\u001b[1;32m      4\u001b[0m \u001b[38;5;28mprint\u001b[39m(pd\u001b[38;5;241m.\u001b[39m__version__)\n",
      "\u001b[0;31mModuleNotFoundError\u001b[0m: No module named 'pandas'"
     ]
    }
   ],
   "source": [
    "\n",
    "import pandas as pd\n",
    "\n",
    "# Test if pandas is working\n",
    "print(pd.__version__)\n",
    "\n",
    "\n",
    "# Jared McCain's data\n",
    "jared_mccain_data = pd.read_csv('data/raw/jared_mccain_3p.csv')\n",
    "print(\"Jared McCain's Three-Point Shooting Data:\")\n",
    "print(jared_mccain_data)\n",
    "\n",
    "# Philadelphia 76ers' data\n",
    "sixers_data = pd.read_csv('data/raw/sixers_3p.csv')\n",
    "print(\"\\nPhiladelphia 76ers' Three-Point Shooting Data:\")\n",
    "print(sixers_data)\n"
   ]
  }
 ],
 "metadata": {
  "kernelspec": {
   "display_name": "Python 3",
   "language": "python",
   "name": "python3"
  },
  "language_info": {
   "codemirror_mode": {
    "name": "ipython",
    "version": 3
   },
   "file_extension": ".py",
   "mimetype": "text/x-python",
   "name": "python",
   "nbconvert_exporter": "python",
   "pygments_lexer": "ipython3",
   "version": "3.9.6"
  }
 },
 "nbformat": 4,
 "nbformat_minor": 2
}
